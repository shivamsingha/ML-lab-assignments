{
 "cells": [
  {
   "cell_type": "markdown",
   "id": "20142821",
   "metadata": {
    "papermill": {
     "duration": 0.013211,
     "end_time": "2022-06-02T21:46:43.821152",
     "exception": false,
     "start_time": "2022-06-02T21:46:43.807941",
     "status": "completed"
    },
    "tags": []
   },
   "source": [
    "**Importing Libraries and Reading Input data files**"
   ]
  },
  {
   "cell_type": "code",
   "execution_count": 1,
   "id": "f8ba5468",
   "metadata": {
    "execution": {
     "iopub.execute_input": "2022-06-02T21:46:43.845602Z",
     "iopub.status.busy": "2022-06-02T21:46:43.845052Z",
     "iopub.status.idle": "2022-06-02T21:46:45.756001Z",
     "shell.execute_reply": "2022-06-02T21:46:45.754980Z"
    },
    "papermill": {
     "duration": 1.925628,
     "end_time": "2022-06-02T21:46:45.758634",
     "exception": false,
     "start_time": "2022-06-02T21:46:43.833006",
     "status": "completed"
    },
    "tags": []
   },
   "outputs": [],
   "source": [
    "import numpy as np\n",
    "import pandas as pd\n",
    "from sklearn.feature_extraction.text import TfidfVectorizer\n",
    "import nltk\n",
    "from nltk.corpus import stopwords\n",
    "from nltk.stem.porter import PorterStemmer\n",
    "import re\n",
    "from sklearn.model_selection import train_test_split\n",
    "import seaborn as sns\n",
    "from sklearn import metrics"
   ]
  },
  {
   "cell_type": "code",
   "execution_count": 2,
   "id": "760bebce",
   "metadata": {
    "execution": {
     "iopub.execute_input": "2022-06-02T21:46:45.783712Z",
     "iopub.status.busy": "2022-06-02T21:46:45.783329Z",
     "iopub.status.idle": "2022-06-02T21:46:48.482590Z",
     "shell.execute_reply": "2022-06-02T21:46:48.481542Z"
    },
    "papermill": {
     "duration": 2.714239,
     "end_time": "2022-06-02T21:46:48.485228",
     "exception": false,
     "start_time": "2022-06-02T21:46:45.770989",
     "status": "completed"
    },
    "tags": []
   },
   "outputs": [],
   "source": [
    "train = pd.read_csv('../input/fake-news/train.csv')\n",
    "test = pd.read_csv('../input/fake-news/test.csv')"
   ]
  },
  {
   "cell_type": "markdown",
   "id": "660077a6",
   "metadata": {
    "papermill": {
     "duration": 0.011805,
     "end_time": "2022-06-02T21:46:48.508608",
     "exception": false,
     "start_time": "2022-06-02T21:46:48.496803",
     "status": "completed"
    },
    "tags": []
   },
   "source": [
    "**Function for pre-processing input data to remove non-alphabet characters, perform PorterStemmer() & remove stop-words**"
   ]
  },
  {
   "cell_type": "code",
   "execution_count": 3,
   "id": "bb1cfede",
   "metadata": {
    "execution": {
     "iopub.execute_input": "2022-06-02T21:46:48.533013Z",
     "iopub.status.busy": "2022-06-02T21:46:48.532624Z",
     "iopub.status.idle": "2022-06-02T21:46:48.540685Z",
     "shell.execute_reply": "2022-06-02T21:46:48.539622Z"
    },
    "papermill": {
     "duration": 0.022389,
     "end_time": "2022-06-02T21:46:48.542878",
     "exception": false,
     "start_time": "2022-06-02T21:46:48.520489",
     "status": "completed"
    },
    "tags": []
   },
   "outputs": [],
   "source": [
    "from tqdm import tqdm\n",
    "def pre_process(X):\n",
    "    corpus = []\n",
    "    X = np.array(X)\n",
    "    ps = PorterStemmer()\n",
    "    for i in tqdm(X):\n",
    "        #print(i)\n",
    "        txt = re.sub('[^a-zA-Z]', ' ', i)\n",
    "        txt = txt.lower()\n",
    "        txt = txt.split()\n",
    "        #print(len(txt))\n",
    "        txt = [ps.stem(word) for word in txt if not word in stopwords.words('english')]\n",
    "        txt = ' '.join(txt)\n",
    "\n",
    "        corpus.append(txt)\n",
    "        \n",
    "    return corpus\n",
    "    "
   ]
  },
  {
   "cell_type": "markdown",
   "id": "42a71dcf",
   "metadata": {
    "papermill": {
     "duration": 0.011029,
     "end_time": "2022-06-02T21:46:48.565676",
     "exception": false,
     "start_time": "2022-06-02T21:46:48.554647",
     "status": "completed"
    },
    "tags": []
   },
   "source": [
    "**Cleaning-up data using the pre_process() function**"
   ]
  },
  {
   "cell_type": "code",
   "execution_count": 4,
   "id": "961d0bf0",
   "metadata": {
    "execution": {
     "iopub.execute_input": "2022-06-02T21:46:48.589581Z",
     "iopub.status.busy": "2022-06-02T21:46:48.589028Z",
     "iopub.status.idle": "2022-06-02T21:46:48.607310Z",
     "shell.execute_reply": "2022-06-02T21:46:48.606408Z"
    },
    "papermill": {
     "duration": 0.032634,
     "end_time": "2022-06-02T21:46:48.609426",
     "exception": false,
     "start_time": "2022-06-02T21:46:48.576792",
     "status": "completed"
    },
    "tags": []
   },
   "outputs": [],
   "source": [
    "train['text'] = train['text'].fillna(train['title'])"
   ]
  },
  {
   "cell_type": "code",
   "execution_count": 5,
   "id": "28a41715",
   "metadata": {
    "execution": {
     "iopub.execute_input": "2022-06-02T21:46:48.633572Z",
     "iopub.status.busy": "2022-06-02T21:46:48.632720Z",
     "iopub.status.idle": "2022-06-02T21:46:48.645182Z",
     "shell.execute_reply": "2022-06-02T21:46:48.644206Z"
    },
    "papermill": {
     "duration": 0.027311,
     "end_time": "2022-06-02T21:46:48.647604",
     "exception": false,
     "start_time": "2022-06-02T21:46:48.620293",
     "status": "completed"
    },
    "tags": []
   },
   "outputs": [],
   "source": [
    "train = train.drop(['id','title','author'],axis = 1)"
   ]
  },
  {
   "cell_type": "code",
   "execution_count": 6,
   "id": "03fbce1d",
   "metadata": {
    "execution": {
     "iopub.execute_input": "2022-06-02T21:46:48.671846Z",
     "iopub.status.busy": "2022-06-02T21:46:48.671550Z",
     "iopub.status.idle": "2022-06-02T21:46:48.678987Z",
     "shell.execute_reply": "2022-06-02T21:46:48.677680Z"
    },
    "papermill": {
     "duration": 0.022539,
     "end_time": "2022-06-02T21:46:48.681213",
     "exception": false,
     "start_time": "2022-06-02T21:46:48.658674",
     "status": "completed"
    },
    "tags": []
   },
   "outputs": [],
   "source": [
    "test['text'] = test['text'].fillna(test['title'])"
   ]
  },
  {
   "cell_type": "code",
   "execution_count": 7,
   "id": "ebaa3d71",
   "metadata": {
    "execution": {
     "iopub.execute_input": "2022-06-02T21:46:48.705796Z",
     "iopub.status.busy": "2022-06-02T21:46:48.705424Z",
     "iopub.status.idle": "2022-06-02T21:46:48.712189Z",
     "shell.execute_reply": "2022-06-02T21:46:48.711297Z"
    },
    "papermill": {
     "duration": 0.021563,
     "end_time": "2022-06-02T21:46:48.714390",
     "exception": false,
     "start_time": "2022-06-02T21:46:48.692827",
     "status": "completed"
    },
    "tags": []
   },
   "outputs": [],
   "source": [
    "test = test.drop(['id','title','author'],axis = 1)"
   ]
  },
  {
   "cell_type": "code",
   "execution_count": 8,
   "id": "93283321",
   "metadata": {
    "execution": {
     "iopub.execute_input": "2022-06-02T21:46:48.740025Z",
     "iopub.status.busy": "2022-06-02T21:46:48.738422Z",
     "iopub.status.idle": "2022-06-02T21:46:48.748136Z",
     "shell.execute_reply": "2022-06-02T21:46:48.747125Z"
    },
    "papermill": {
     "duration": 0.024197,
     "end_time": "2022-06-02T21:46:48.750466",
     "exception": false,
     "start_time": "2022-06-02T21:46:48.726269",
     "status": "completed"
    },
    "tags": []
   },
   "outputs": [],
   "source": [
    "train['text'] = train['text'].astype(str)\n",
    "test['text'] = test['text'].astype(str)"
   ]
  },
  {
   "cell_type": "code",
   "execution_count": 9,
   "id": "b74f4c3b",
   "metadata": {
    "execution": {
     "iopub.execute_input": "2022-06-02T21:46:48.774317Z",
     "iopub.status.busy": "2022-06-02T21:46:48.773998Z",
     "iopub.status.idle": "2022-06-02T22:37:30.244858Z",
     "shell.execute_reply": "2022-06-02T22:37:30.243371Z"
    },
    "papermill": {
     "duration": 3041.488638,
     "end_time": "2022-06-02T22:37:30.250292",
     "exception": false,
     "start_time": "2022-06-02T21:46:48.761654",
     "status": "completed"
    },
    "tags": []
   },
   "outputs": [
    {
     "name": "stderr",
     "output_type": "stream",
     "text": [
      "100%|██████████| 20800/20800 [50:41<00:00,  6.84it/s]\n"
     ]
    }
   ],
   "source": [
    "train['text'] = pre_process(train['text'])"
   ]
  },
  {
   "cell_type": "code",
   "execution_count": 10,
   "id": "610abf8d",
   "metadata": {
    "execution": {
     "iopub.execute_input": "2022-06-02T22:37:32.235282Z",
     "iopub.status.busy": "2022-06-02T22:37:32.234349Z",
     "iopub.status.idle": "2022-06-02T22:50:31.108719Z",
     "shell.execute_reply": "2022-06-02T22:50:31.107418Z"
    },
    "papermill": {
     "duration": 780.016083,
     "end_time": "2022-06-02T22:50:31.114870",
     "exception": false,
     "start_time": "2022-06-02T22:37:31.098787",
     "status": "completed"
    },
    "tags": []
   },
   "outputs": [
    {
     "name": "stderr",
     "output_type": "stream",
     "text": [
      "100%|██████████| 5200/5200 [12:58<00:00,  6.68it/s]\n"
     ]
    }
   ],
   "source": [
    "test['text'] = pre_process(test['text'])"
   ]
  },
  {
   "cell_type": "code",
   "execution_count": 11,
   "id": "7dd82279",
   "metadata": {
    "execution": {
     "iopub.execute_input": "2022-06-02T22:50:33.506752Z",
     "iopub.status.busy": "2022-06-02T22:50:33.505897Z",
     "iopub.status.idle": "2022-06-02T22:50:33.511286Z",
     "shell.execute_reply": "2022-06-02T22:50:33.510201Z"
    },
    "papermill": {
     "duration": 1.376707,
     "end_time": "2022-06-02T22:50:33.513420",
     "exception": false,
     "start_time": "2022-06-02T22:50:32.136713",
     "status": "completed"
    },
    "tags": []
   },
   "outputs": [],
   "source": [
    "X = train['text'].values\n",
    "y = train['label'].values"
   ]
  },
  {
   "cell_type": "markdown",
   "id": "69a023bb",
   "metadata": {
    "papermill": {
     "duration": 1.081293,
     "end_time": "2022-06-02T22:50:35.654199",
     "exception": false,
     "start_time": "2022-06-02T22:50:34.572906",
     "status": "completed"
    },
    "tags": []
   },
   "source": [
    "**Transform text data via TfidfVectorizer()**"
   ]
  },
  {
   "cell_type": "code",
   "execution_count": 12,
   "id": "0ff6b803",
   "metadata": {
    "execution": {
     "iopub.execute_input": "2022-06-02T22:50:37.746711Z",
     "iopub.status.busy": "2022-06-02T22:50:37.745969Z",
     "iopub.status.idle": "2022-06-02T22:52:11.146148Z",
     "shell.execute_reply": "2022-06-02T22:52:11.145005Z"
    },
    "papermill": {
     "duration": 94.475123,
     "end_time": "2022-06-02T22:52:11.148790",
     "exception": false,
     "start_time": "2022-06-02T22:50:36.673667",
     "status": "completed"
    },
    "tags": []
   },
   "outputs": [],
   "source": [
    "tfidf_v=TfidfVectorizer(max_features=10000,ngram_range=(1,3))\n",
    "X_tfidf=tfidf_v.fit_transform(X).toarray()"
   ]
  },
  {
   "cell_type": "code",
   "execution_count": 13,
   "id": "4dccade4",
   "metadata": {
    "execution": {
     "iopub.execute_input": "2022-06-02T22:52:13.550977Z",
     "iopub.status.busy": "2022-06-02T22:52:13.550607Z",
     "iopub.status.idle": "2022-06-02T22:52:14.204968Z",
     "shell.execute_reply": "2022-06-02T22:52:14.203957Z"
    },
    "papermill": {
     "duration": 1.716822,
     "end_time": "2022-06-02T22:52:14.207427",
     "exception": false,
     "start_time": "2022-06-02T22:52:12.490605",
     "status": "completed"
    },
    "tags": []
   },
   "outputs": [],
   "source": [
    "X_train, X_dev, y_train, y_dev = train_test_split(X_tfidf, y, test_size=0.2, random_state=1)"
   ]
  },
  {
   "cell_type": "markdown",
   "id": "e066b936",
   "metadata": {
    "papermill": {
     "duration": 1.053742,
     "end_time": "2022-06-02T22:52:16.264963",
     "exception": false,
     "start_time": "2022-06-02T22:52:15.211221",
     "status": "completed"
    },
    "tags": []
   },
   "source": [
    "**Model training & results using PassiveAggressiveClassifier**"
   ]
  },
  {
   "cell_type": "code",
   "execution_count": 14,
   "id": "d5ae75b3",
   "metadata": {
    "execution": {
     "iopub.execute_input": "2022-06-02T22:52:18.364060Z",
     "iopub.status.busy": "2022-06-02T22:52:18.363075Z",
     "iopub.status.idle": "2022-06-02T22:52:25.911348Z",
     "shell.execute_reply": "2022-06-02T22:52:25.910128Z"
    },
    "papermill": {
     "duration": 8.578902,
     "end_time": "2022-06-02T22:52:25.913665",
     "exception": false,
     "start_time": "2022-06-02T22:52:17.334763",
     "status": "completed"
    },
    "tags": []
   },
   "outputs": [
    {
     "name": "stdout",
     "output_type": "stream",
     "text": [
      "accuracy:   0.961\n"
     ]
    },
    {
     "data": {
      "text/plain": [
       "<AxesSubplot:>"
      ]
     },
     "execution_count": 14,
     "metadata": {},
     "output_type": "execute_result"
    },
    {
     "data": {
      "image/png": "[encoded data removed]",
      "text/plain": [
       "<Figure size 432x288 with 2 Axes>"
      ]
     },
     "metadata": {
      "needs_background": "light"
     },
     "output_type": "display_data"
    }
   ],
   "source": [
    "from sklearn.linear_model import PassiveAggressiveClassifier\n",
    "clf_PA = PassiveAggressiveClassifier(random_state=1)\n",
    "\n",
    "clf_PA.fit(X_train, y_train)\n",
    "pred = clf_PA.predict(X_dev)\n",
    "score = metrics.accuracy_score(y_dev, pred)\n",
    "print(\"accuracy:   %0.3f\" % score)\n",
    "cm = metrics.confusion_matrix(y_dev, pred)\n",
    "sns.heatmap(cm,annot=True,fmt='g')"
   ]
  },
  {
   "cell_type": "markdown",
   "id": "dc26d23e",
   "metadata": {
    "papermill": {
     "duration": 1.071915,
     "end_time": "2022-06-02T22:52:28.000095",
     "exception": false,
     "start_time": "2022-06-02T22:52:26.928180",
     "status": "completed"
    },
    "tags": []
   },
   "source": [
    "**Model training & results using LogisticRegression**"
   ]
  },
  {
   "cell_type": "code",
   "execution_count": 15,
   "id": "96a8e46d",
   "metadata": {
    "execution": {
     "iopub.execute_input": "2022-06-02T22:52:30.881290Z",
     "iopub.status.busy": "2022-06-02T22:52:30.880843Z",
     "iopub.status.idle": "2022-06-02T22:52:42.574830Z",
     "shell.execute_reply": "2022-06-02T22:52:42.573775Z"
    },
    "papermill": {
     "duration": 13.336955,
     "end_time": "2022-06-02T22:52:42.577363",
     "exception": false,
     "start_time": "2022-06-02T22:52:29.240408",
     "status": "completed"
    },
    "tags": []
   },
   "outputs": [
    {
     "name": "stdout",
     "output_type": "stream",
     "text": [
      "accuracy:   0.950\n"
     ]
    },
    {
     "data": {
      "text/plain": [
       "<AxesSubplot:>"
      ]
     },
     "execution_count": 15,
     "metadata": {},
     "output_type": "execute_result"
    },
    {
     "data": {
      "image/png": "[encoded data removed]",
      "text/plain": [
       "<Figure size 432x288 with 2 Axes>"
      ]
     },
     "metadata": {
      "needs_background": "light"
     },
     "output_type": "display_data"
    }
   ],
   "source": [
    "from sklearn.linear_model import LogisticRegression\n",
    "clf_LR=LogisticRegression(random_state=1)\n",
    "\n",
    "clf_LR.fit(X_train, y_train)\n",
    "pred = clf_LR.predict(X_dev)\n",
    "score = metrics.accuracy_score(y_dev, pred)\n",
    "print(\"accuracy:   %0.3f\" % score)\n",
    "cm = metrics.confusion_matrix(y_dev, pred)\n",
    "sns.heatmap(cm,annot=True,fmt='g')"
   ]
  },
  {
   "cell_type": "markdown",
   "id": "04066bee",
   "metadata": {
    "papermill": {
     "duration": 1.34284,
     "end_time": "2022-06-02T22:52:44.992810",
     "exception": false,
     "start_time": "2022-06-02T22:52:43.649970",
     "status": "completed"
    },
    "tags": []
   },
   "source": [
    "**Predicting values using clf_PA model - final submission received a score of ~0.55**"
   ]
  },
  {
   "cell_type": "code",
   "execution_count": 16,
   "id": "53dbe33d",
   "metadata": {
    "execution": {
     "iopub.execute_input": "2022-06-02T22:52:47.088810Z",
     "iopub.status.busy": "2022-06-02T22:52:47.088018Z",
     "iopub.status.idle": "2022-06-02T22:53:12.395880Z",
     "shell.execute_reply": "2022-06-02T22:53:12.394599Z"
    },
    "papermill": {
     "duration": 26.334765,
     "end_time": "2022-06-02T22:53:12.398597",
     "exception": false,
     "start_time": "2022-06-02T22:52:46.063832",
     "status": "completed"
    },
    "tags": []
   },
   "outputs": [],
   "source": [
    "X_test = test['text'].values\n",
    "X_test_tfidf=tfidf_v.fit_transform(X_test).toarray()"
   ]
  },
  {
   "cell_type": "code",
   "execution_count": 17,
   "id": "fb43571d",
   "metadata": {
    "execution": {
     "iopub.execute_input": "2022-06-02T22:53:14.511206Z",
     "iopub.status.busy": "2022-06-02T22:53:14.510742Z",
     "iopub.status.idle": "2022-06-02T22:53:14.604708Z",
     "shell.execute_reply": "2022-06-02T22:53:14.603449Z"
    },
    "papermill": {
     "duration": 1.162461,
     "end_time": "2022-06-02T22:53:14.608751",
     "exception": false,
     "start_time": "2022-06-02T22:53:13.446290",
     "status": "completed"
    },
    "tags": []
   },
   "outputs": [],
   "source": [
    "pred_PA = clf_PA.predict(X_test_tfidf)"
   ]
  },
  {
   "cell_type": "code",
   "execution_count": 18,
   "id": "de553aa2",
   "metadata": {
    "execution": {
     "iopub.execute_input": "2022-06-02T22:53:16.683125Z",
     "iopub.status.busy": "2022-06-02T22:53:16.682749Z",
     "iopub.status.idle": "2022-06-02T23:06:58.592740Z",
     "shell.execute_reply": "2022-06-02T23:06:58.591573Z"
    },
    "papermill": {
     "duration": 822.922273,
     "end_time": "2022-06-02T23:06:58.595352",
     "exception": false,
     "start_time": "2022-06-02T22:53:15.673079",
     "status": "completed"
    },
    "tags": []
   },
   "outputs": [
    {
     "name": "stderr",
     "output_type": "stream",
     "text": [
      "100%|██████████| 5200/5200 [13:17<00:00,  6.52it/s]\n"
     ]
    }
   ],
   "source": [
    "test_2 = pd.read_csv('../input/fake-news/test.csv')\n",
    "test_2['text'] = test_2['text'].fillna(test_2['title'])\n",
    "test_2['text'] = test_2['text'].astype(str)\n",
    "test_2['text'] = pre_process(test_2['text'])\n",
    "X_test_2 = test_2['text'].values\n",
    "X_test_tfidf_2=tfidf_v.fit_transform(X_test_2).toarray()"
   ]
  },
  {
   "cell_type": "code",
   "execution_count": 19,
   "id": "8b0523b1",
   "metadata": {
    "execution": {
     "iopub.execute_input": "2022-06-02T23:07:01.059498Z",
     "iopub.status.busy": "2022-06-02T23:07:01.059105Z",
     "iopub.status.idle": "2022-06-02T23:07:01.155144Z",
     "shell.execute_reply": "2022-06-02T23:07:01.153588Z"
    },
    "papermill": {
     "duration": 1.364761,
     "end_time": "2022-06-02T23:07:01.158969",
     "exception": false,
     "start_time": "2022-06-02T23:06:59.794208",
     "status": "completed"
    },
    "tags": []
   },
   "outputs": [],
   "source": [
    "pred_PA_2 = clf_PA.predict(X_test_tfidf_2)"
   ]
  },
  {
   "cell_type": "code",
   "execution_count": 20,
   "id": "5ec12166",
   "metadata": {
    "execution": {
     "iopub.execute_input": "2022-06-02T23:07:03.984721Z",
     "iopub.status.busy": "2022-06-02T23:07:03.984242Z",
     "iopub.status.idle": "2022-06-02T23:07:03.990724Z",
     "shell.execute_reply": "2022-06-02T23:07:03.989427Z"
    },
    "papermill": {
     "duration": 1.224321,
     "end_time": "2022-06-02T23:07:03.993529",
     "exception": false,
     "start_time": "2022-06-02T23:07:02.769208",
     "status": "completed"
    },
    "scrolled": true,
    "tags": []
   },
   "outputs": [],
   "source": [
    "output_PA = pd.DataFrame({'id': test_2['id'], 'label': pred_PA_2.astype(int)})"
   ]
  },
  {
   "cell_type": "code",
   "execution_count": 21,
   "id": "380067fe",
   "metadata": {
    "execution": {
     "iopub.execute_input": "2022-06-02T23:07:06.531218Z",
     "iopub.status.busy": "2022-06-02T23:07:06.530821Z",
     "iopub.status.idle": "2022-06-02T23:07:06.546473Z",
     "shell.execute_reply": "2022-06-02T23:07:06.545481Z"
    },
    "papermill": {
     "duration": 1.24994,
     "end_time": "2022-06-02T23:07:06.548644",
     "exception": false,
     "start_time": "2022-06-02T23:07:05.298704",
     "status": "completed"
    },
    "tags": []
   },
   "outputs": [],
   "source": [
    "output_PA.to_csv('./submission4.csv', index = False)"
   ]
  },
  {
   "cell_type": "markdown",
   "id": "d9a1604a",
   "metadata": {
    "papermill": {
     "duration": 1.263563,
     "end_time": "2022-06-02T23:07:09.092663",
     "exception": false,
     "start_time": "2022-06-02T23:07:07.829100",
     "status": "completed"
    },
    "tags": []
   },
   "source": [
    "**Now using Word Embeddings + basic (1 Layer) Bi-Directional LSTM model **"
   ]
  },
  {
   "cell_type": "code",
   "execution_count": 22,
   "id": "304e40e0",
   "metadata": {
    "execution": {
     "iopub.execute_input": "2022-06-02T23:07:11.603036Z",
     "iopub.status.busy": "2022-06-02T23:07:11.602005Z",
     "iopub.status.idle": "2022-06-02T23:07:23.286006Z",
     "shell.execute_reply": "2022-06-02T23:07:23.284909Z"
    },
    "papermill": {
     "duration": 12.969455,
     "end_time": "2022-06-02T23:07:23.288557",
     "exception": false,
     "start_time": "2022-06-02T23:07:10.319102",
     "status": "completed"
    },
    "tags": []
   },
   "outputs": [],
   "source": [
    "from tensorflow.keras.layers import Embedding\n",
    "from tensorflow.keras.preprocessing.sequence import pad_sequences\n",
    "from tensorflow.keras.models import Sequential\n",
    "from tensorflow.keras.preprocessing.text import one_hot\n",
    "from tensorflow.keras.layers import LSTM\n",
    "from tensorflow.keras.layers import Dense\n",
    "\n",
    "voc_size=10000\n",
    "\n",
    "onehot_repr=[one_hot(words,voc_size)for words in X] "
   ]
  },
  {
   "cell_type": "markdown",
   "id": "94bff3bf",
   "metadata": {
    "papermill": {
     "duration": 1.280142,
     "end_time": "2022-06-02T23:07:26.081446",
     "exception": false,
     "start_time": "2022-06-02T23:07:24.801304",
     "status": "completed"
    },
    "tags": []
   },
   "source": [
    "**Tried different values for sentence length (one example mentioned below)**"
   ]
  },
  {
   "cell_type": "code",
   "execution_count": 23,
   "id": "f071faa4",
   "metadata": {
    "execution": {
     "iopub.execute_input": "2022-06-02T23:07:28.588213Z",
     "iopub.status.busy": "2022-06-02T23:07:28.587326Z",
     "iopub.status.idle": "2022-06-02T23:07:28.605339Z",
     "shell.execute_reply": "2022-06-02T23:07:28.604343Z"
    },
    "papermill": {
     "duration": 1.241801,
     "end_time": "2022-06-02T23:07:28.607797",
     "exception": false,
     "start_time": "2022-06-02T23:07:27.365996",
     "status": "completed"
    },
    "tags": []
   },
   "outputs": [],
   "source": [
    "sent = {}\n",
    "for i in onehot_repr:\n",
    "    if len(i) in sent:\n",
    "        sent[len(i)]+=1\n",
    "    else:\n",
    "        sent[len(i)]=1\n",
    "        \n"
   ]
  },
  {
   "cell_type": "code",
   "execution_count": 24,
   "id": "805e7148",
   "metadata": {
    "execution": {
     "iopub.execute_input": "2022-06-02T23:07:31.121156Z",
     "iopub.status.busy": "2022-06-02T23:07:31.120749Z",
     "iopub.status.idle": "2022-06-02T23:07:31.125635Z",
     "shell.execute_reply": "2022-06-02T23:07:31.124511Z"
    },
    "papermill": {
     "duration": 1.231004,
     "end_time": "2022-06-02T23:07:31.128008",
     "exception": false,
     "start_time": "2022-06-02T23:07:29.897004",
     "status": "completed"
    },
    "tags": []
   },
   "outputs": [],
   "source": [
    "k = sent.keys()\n",
    "v = sent.values()"
   ]
  },
  {
   "cell_type": "code",
   "execution_count": 25,
   "id": "58d5c366",
   "metadata": {
    "execution": {
     "iopub.execute_input": "2022-06-02T23:07:33.731626Z",
     "iopub.status.busy": "2022-06-02T23:07:33.731223Z",
     "iopub.status.idle": "2022-06-02T23:07:33.742638Z",
     "shell.execute_reply": "2022-06-02T23:07:33.741583Z"
    },
    "papermill": {
     "duration": 1.297648,
     "end_time": "2022-06-02T23:07:33.744965",
     "exception": false,
     "start_time": "2022-06-02T23:07:32.447317",
     "status": "completed"
    },
    "tags": []
   },
   "outputs": [
    {
     "data": {
      "text/plain": [
       "0.48875"
      ]
     },
     "execution_count": 25,
     "metadata": {},
     "output_type": "execute_result"
    }
   ],
   "source": [
    "cntr = 0\n",
    "tot = 0\n",
    "for k,v in sent.items():\n",
    "    if k <=300:\n",
    "        cntr+=v\n",
    "    tot+=v\n",
    "\n",
    "cntr/tot"
   ]
  },
  {
   "cell_type": "code",
   "execution_count": 26,
   "id": "71fc0376",
   "metadata": {
    "execution": {
     "iopub.execute_input": "2022-06-02T23:07:36.568752Z",
     "iopub.status.busy": "2022-06-02T23:07:36.568369Z",
     "iopub.status.idle": "2022-06-02T23:07:37.042572Z",
     "shell.execute_reply": "2022-06-02T23:07:37.041405Z"
    },
    "papermill": {
     "duration": 2.064559,
     "end_time": "2022-06-02T23:07:37.045079",
     "exception": false,
     "start_time": "2022-06-02T23:07:34.980520",
     "status": "completed"
    },
    "tags": []
   },
   "outputs": [],
   "source": [
    "sent_length=300\n",
    "embedded_docs=pad_sequences(onehot_repr,padding='pre',maxlen=sent_length)"
   ]
  },
  {
   "cell_type": "code",
   "execution_count": 27,
   "id": "62d9cc69",
   "metadata": {
    "execution": {
     "iopub.execute_input": "2022-06-02T23:07:39.535956Z",
     "iopub.status.busy": "2022-06-02T23:07:39.535502Z",
     "iopub.status.idle": "2022-06-02T23:07:44.111891Z",
     "shell.execute_reply": "2022-06-02T23:07:44.109816Z"
    },
    "papermill": {
     "duration": 5.85832,
     "end_time": "2022-06-02T23:07:44.115600",
     "exception": false,
     "start_time": "2022-06-02T23:07:38.257280",
     "status": "completed"
    },
    "tags": []
   },
   "outputs": [
    {
     "name": "stderr",
     "output_type": "stream",
     "text": [
      "2022-06-02 23:07:39.675214: I tensorflow/stream_executor/cuda/cuda_gpu_executor.cc:937] successful NUMA node read from SysFS had negative value (-1), but there must be at least one NUMA node, so returning NUMA node zero\n",
      "2022-06-02 23:07:39.829396: I tensorflow/stream_executor/cuda/cuda_gpu_executor.cc:937] successful NUMA node read from SysFS had negative value (-1), but there must be at least one NUMA node, so returning NUMA node zero\n",
      "2022-06-02 23:07:39.830497: I tensorflow/stream_executor/cuda/cuda_gpu_executor.cc:937] successful NUMA node read from SysFS had negative value (-1), but there must be at least one NUMA node, so returning NUMA node zero\n",
      "2022-06-02 23:07:39.832614: I tensorflow/core/platform/cpu_feature_guard.cc:142] This TensorFlow binary is optimized with oneAPI Deep Neural Network Library (oneDNN) to use the following CPU instructions in performance-critical operations:  AVX2 FMA\n",
      "To enable them in other operations, rebuild TensorFlow with the appropriate compiler flags.\n",
      "2022-06-02 23:07:39.832993: I tensorflow/stream_executor/cuda/cuda_gpu_executor.cc:937] successful NUMA node read from SysFS had negative value (-1), but there must be at least one NUMA node, so returning NUMA node zero\n",
      "2022-06-02 23:07:39.834216: I tensorflow/stream_executor/cuda/cuda_gpu_executor.cc:937] successful NUMA node read from SysFS had negative value (-1), but there must be at least one NUMA node, so returning NUMA node zero\n",
      "2022-06-02 23:07:39.835270: I tensorflow/stream_executor/cuda/cuda_gpu_executor.cc:937] successful NUMA node read from SysFS had negative value (-1), but there must be at least one NUMA node, so returning NUMA node zero\n",
      "2022-06-02 23:07:42.520796: I tensorflow/stream_executor/cuda/cuda_gpu_executor.cc:937] successful NUMA node read from SysFS had negative value (-1), but there must be at least one NUMA node, so returning NUMA node zero\n",
      "2022-06-02 23:07:42.521958: I tensorflow/stream_executor/cuda/cuda_gpu_executor.cc:937] successful NUMA node read from SysFS had negative value (-1), but there must be at least one NUMA node, so returning NUMA node zero\n",
      "2022-06-02 23:07:42.522943: I tensorflow/stream_executor/cuda/cuda_gpu_executor.cc:937] successful NUMA node read from SysFS had negative value (-1), but there must be at least one NUMA node, so returning NUMA node zero\n",
      "2022-06-02 23:07:42.523862: I tensorflow/core/common_runtime/gpu/gpu_device.cc:1510] Created device /job:localhost/replica:0/task:0/device:GPU:0 with 15403 MB memory:  -> device: 0, name: Tesla P100-PCIE-16GB, pci bus id: 0000:00:04.0, compute capability: 6.0\n"
     ]
    },
    {
     "name": "stdout",
     "output_type": "stream",
     "text": [
      "Model: \"sequential\"\n",
      "_________________________________________________________________\n",
      "Layer (type)                 Output Shape              Param #   \n",
      "=================================================================\n",
      "embedding (Embedding)        (None, 300, 50)           500000    \n",
      "_________________________________________________________________\n",
      "bidirectional (Bidirectional (None, 200)               120800    \n",
      "_________________________________________________________________\n",
      "dropout (Dropout)            (None, 200)               0         \n",
      "_________________________________________________________________\n",
      "dense (Dense)                (None, 1)                 201       \n",
      "=================================================================\n",
      "Total params: 621,001\n",
      "Trainable params: 621,001\n",
      "Non-trainable params: 0\n",
      "_________________________________________________________________\n",
      "None\n"
     ]
    }
   ],
   "source": [
    "from tensorflow.keras.layers import Bidirectional\n",
    "\n",
    "from tensorflow.keras.layers import Dropout\n",
    "\n",
    "embedding_vector_features=50\n",
    "model1=Sequential()\n",
    "model1.add(Embedding(voc_size,embedding_vector_features,input_length=sent_length))\n",
    "model1.add(Bidirectional(LSTM(100)))\n",
    "model1.add(Dropout(0.3))\n",
    "model1.add(Dense(1,activation='sigmoid'))\n",
    "model1.compile(loss='binary_crossentropy',optimizer='adam',metrics=['accuracy'])\n",
    "print(model1.summary())"
   ]
  },
  {
   "cell_type": "code",
   "execution_count": 28,
   "id": "f4869e3e",
   "metadata": {
    "execution": {
     "iopub.execute_input": "2022-06-02T23:07:46.932785Z",
     "iopub.status.busy": "2022-06-02T23:07:46.932227Z",
     "iopub.status.idle": "2022-06-02T23:07:46.946669Z",
     "shell.execute_reply": "2022-06-02T23:07:46.945755Z"
    },
    "papermill": {
     "duration": 1.546478,
     "end_time": "2022-06-02T23:07:46.948873",
     "exception": false,
     "start_time": "2022-06-02T23:07:45.402395",
     "status": "completed"
    },
    "tags": []
   },
   "outputs": [],
   "source": [
    "X_final=np.array(embedded_docs)\n",
    "y_final=np.array(y)"
   ]
  },
  {
   "cell_type": "code",
   "execution_count": 29,
   "id": "13007c82",
   "metadata": {
    "execution": {
     "iopub.execute_input": "2022-06-02T23:07:49.476610Z",
     "iopub.status.busy": "2022-06-02T23:07:49.475946Z",
     "iopub.status.idle": "2022-06-02T23:07:49.495051Z",
     "shell.execute_reply": "2022-06-02T23:07:49.494180Z"
    },
    "papermill": {
     "duration": 1.26131,
     "end_time": "2022-06-02T23:07:49.497276",
     "exception": false,
     "start_time": "2022-06-02T23:07:48.235966",
     "status": "completed"
    },
    "tags": []
   },
   "outputs": [],
   "source": [
    "X_train_LSTM, X_test_LSTM, y_train_LSTM, y_test_LSTM = train_test_split(X_final, y_final, test_size=0.3, random_state=42)"
   ]
  },
  {
   "cell_type": "code",
   "execution_count": 30,
   "id": "2bb174bd",
   "metadata": {
    "execution": {
     "iopub.execute_input": "2022-06-02T23:07:52.633912Z",
     "iopub.status.busy": "2022-06-02T23:07:52.633398Z",
     "iopub.status.idle": "2022-06-02T23:10:17.840291Z",
     "shell.execute_reply": "2022-06-02T23:10:17.839086Z"
    },
    "papermill": {
     "duration": 148.443727,
     "end_time": "2022-06-02T23:10:19.205024",
     "exception": false,
     "start_time": "2022-06-02T23:07:50.761297",
     "status": "completed"
    },
    "tags": []
   },
   "outputs": [
    {
     "name": "stderr",
     "output_type": "stream",
     "text": [
      "2022-06-02 23:07:52.722297: I tensorflow/compiler/mlir/mlir_graph_optimization_pass.cc:185] None of the MLIR Optimization Passes are enabled (registered 2)\n"
     ]
    },
    {
     "name": "stdout",
     "output_type": "stream",
     "text": [
      "Epoch 1/10\n"
     ]
    },
    {
     "name": "stderr",
     "output_type": "stream",
     "text": [
      "2022-06-02 23:07:56.989358: I tensorflow/stream_executor/cuda/cuda_dnn.cc:369] Loaded cuDNN version 8005\n"
     ]
    },
    {
     "name": "stdout",
     "output_type": "stream",
     "text": [
      "228/228 [==============================] - 16s 45ms/step - loss: 0.3526 - accuracy: 0.8468 - val_loss: 0.1954 - val_accuracy: 0.9261\n",
      "Epoch 2/10\n",
      "228/228 [==============================] - 10s 42ms/step - loss: 0.1366 - accuracy: 0.9533 - val_loss: 0.1950 - val_accuracy: 0.9272\n",
      "Epoch 3/10\n",
      "228/228 [==============================] - 10s 46ms/step - loss: 0.0913 - accuracy: 0.9703 - val_loss: 0.1918 - val_accuracy: 0.9370\n",
      "Epoch 4/10\n",
      "228/228 [==============================] - 10s 43ms/step - loss: 0.0801 - accuracy: 0.9709 - val_loss: 0.2438 - val_accuracy: 0.9237\n",
      "Epoch 5/10\n",
      "228/228 [==============================] - 10s 43ms/step - loss: 0.0597 - accuracy: 0.9793 - val_loss: 0.2577 - val_accuracy: 0.9196\n",
      "Epoch 6/10\n",
      "228/228 [==============================] - 11s 47ms/step - loss: 0.0467 - accuracy: 0.9841 - val_loss: 0.2649 - val_accuracy: 0.9327\n",
      "Epoch 7/10\n",
      "228/228 [==============================] - 10s 43ms/step - loss: 0.0304 - accuracy: 0.9911 - val_loss: 0.4032 - val_accuracy: 0.9107\n",
      "Epoch 8/10\n",
      "228/228 [==============================] - 10s 44ms/step - loss: 0.0220 - accuracy: 0.9940 - val_loss: 0.3365 - val_accuracy: 0.9333\n",
      "Epoch 9/10\n",
      "228/228 [==============================] - 10s 44ms/step - loss: 0.0291 - accuracy: 0.9910 - val_loss: 0.3377 - val_accuracy: 0.9300\n",
      "Epoch 10/10\n",
      "228/228 [==============================] - 10s 46ms/step - loss: 0.0117 - accuracy: 0.9973 - val_loss: 0.3349 - val_accuracy: 0.9301\n"
     ]
    },
    {
     "data": {
      "text/plain": [
       "<keras.callbacks.History at 0x7fabd8350bd0>"
      ]
     },
     "execution_count": 30,
     "metadata": {},
     "output_type": "execute_result"
    }
   ],
   "source": [
    "model1.fit(X_train_LSTM,y_train_LSTM,validation_data=(X_test_LSTM,y_test_LSTM),epochs=10,batch_size=64)"
   ]
  },
  {
   "cell_type": "markdown",
   "id": "6a7001c2",
   "metadata": {
    "papermill": {
     "duration": 1.363078,
     "end_time": "2022-06-02T23:10:22.234293",
     "exception": false,
     "start_time": "2022-06-02T23:10:20.871215",
     "status": "completed"
    },
    "tags": []
   },
   "source": [
    "**Predicting values using model1 (Word Embeddings + Bi-Directional LSTM) - final submission received a score of ~0.92**"
   ]
  },
  {
   "cell_type": "code",
   "execution_count": 31,
   "id": "7f444cc1",
   "metadata": {
    "execution": {
     "iopub.execute_input": "2022-06-02T23:10:24.921801Z",
     "iopub.status.busy": "2022-06-02T23:10:24.921351Z",
     "iopub.status.idle": "2022-06-02T23:10:28.200936Z",
     "shell.execute_reply": "2022-06-02T23:10:28.199855Z"
    },
    "papermill": {
     "duration": 4.657026,
     "end_time": "2022-06-02T23:10:28.203369",
     "exception": false,
     "start_time": "2022-06-02T23:10:23.546343",
     "status": "completed"
    },
    "tags": []
   },
   "outputs": [],
   "source": [
    "y_pred_LSTM=model1.predict(X_test_LSTM)"
   ]
  },
  {
   "cell_type": "code",
   "execution_count": 32,
   "id": "d3373d33",
   "metadata": {
    "execution": {
     "iopub.execute_input": "2022-06-02T23:10:30.867834Z",
     "iopub.status.busy": "2022-06-02T23:10:30.867446Z",
     "iopub.status.idle": "2022-06-02T23:10:30.885769Z",
     "shell.execute_reply": "2022-06-02T23:10:30.884627Z"
    },
    "papermill": {
     "duration": 1.389873,
     "end_time": "2022-06-02T23:10:30.888361",
     "exception": false,
     "start_time": "2022-06-02T23:10:29.498488",
     "status": "completed"
    },
    "tags": []
   },
   "outputs": [],
   "source": [
    "thresh = 0.5\n",
    "final_pred = []\n",
    "for i in y_pred_LSTM:\n",
    "    if i >= thresh:\n",
    "        final_pred.append(1)\n",
    "    else:\n",
    "        final_pred.append(0)"
   ]
  },
  {
   "cell_type": "code",
   "execution_count": 33,
   "id": "2b1ca229",
   "metadata": {
    "execution": {
     "iopub.execute_input": "2022-06-02T23:10:33.843773Z",
     "iopub.status.busy": "2022-06-02T23:10:33.843416Z",
     "iopub.status.idle": "2022-06-02T23:10:34.073165Z",
     "shell.execute_reply": "2022-06-02T23:10:34.072150Z"
    },
    "papermill": {
     "duration": 1.520006,
     "end_time": "2022-06-02T23:10:34.075260",
     "exception": false,
     "start_time": "2022-06-02T23:10:32.555254",
     "status": "completed"
    },
    "tags": []
   },
   "outputs": [
    {
     "data": {
      "text/plain": [
       "<AxesSubplot:>"
      ]
     },
     "execution_count": 33,
     "metadata": {},
     "output_type": "execute_result"
    },
    {
     "data": {
      "image/png": "[encoded data removed]",
      "text/plain": [
       "<Figure size 432x288 with 2 Axes>"
      ]
     },
     "metadata": {
      "needs_background": "light"
     },
     "output_type": "display_data"
    }
   ],
   "source": [
    "cm = metrics.confusion_matrix(y_test_LSTM, final_pred)\n",
    "sns.heatmap(cm,annot=True,fmt='g')"
   ]
  },
  {
   "cell_type": "code",
   "execution_count": 34,
   "id": "598ee21a",
   "metadata": {
    "execution": {
     "iopub.execute_input": "2022-06-02T23:10:37.184289Z",
     "iopub.status.busy": "2022-06-02T23:10:37.183700Z",
     "iopub.status.idle": "2022-06-02T23:10:37.204468Z",
     "shell.execute_reply": "2022-06-02T23:10:37.195588Z"
    },
    "papermill": {
     "duration": 1.77605,
     "end_time": "2022-06-02T23:10:37.209980",
     "exception": false,
     "start_time": "2022-06-02T23:10:35.433930",
     "status": "completed"
    },
    "tags": []
   },
   "outputs": [
    {
     "name": "stdout",
     "output_type": "stream",
     "text": [
      "accuracy:   0.930\n"
     ]
    }
   ],
   "source": [
    "score = metrics.accuracy_score(y_test_LSTM, final_pred)\n",
    "print(\"accuracy:   %0.3f\" % score)"
   ]
  },
  {
   "cell_type": "code",
   "execution_count": 35,
   "id": "b13eff36",
   "metadata": {
    "execution": {
     "iopub.execute_input": "2022-06-02T23:10:40.293987Z",
     "iopub.status.busy": "2022-06-02T23:10:40.293505Z",
     "iopub.status.idle": "2022-06-02T23:10:44.872199Z",
     "shell.execute_reply": "2022-06-02T23:10:44.870953Z"
    },
    "papermill": {
     "duration": 5.897876,
     "end_time": "2022-06-02T23:10:44.874900",
     "exception": false,
     "start_time": "2022-06-02T23:10:38.977024",
     "status": "completed"
    },
    "tags": []
   },
   "outputs": [],
   "source": [
    "onehot_repr_test=[one_hot(words,voc_size)for words in X_test]\n",
    "embedded_docs_test=pad_sequences(onehot_repr_test,padding='pre',maxlen=sent_length)\n",
    "X_test_final=np.array(embedded_docs_test)\n",
    "test_pred_LSTM=model1.predict(X_test_final)\n"
   ]
  },
  {
   "cell_type": "code",
   "execution_count": 36,
   "id": "48632ab4",
   "metadata": {
    "execution": {
     "iopub.execute_input": "2022-06-02T23:10:47.563873Z",
     "iopub.status.busy": "2022-06-02T23:10:47.563475Z",
     "iopub.status.idle": "2022-06-02T23:10:47.582038Z",
     "shell.execute_reply": "2022-06-02T23:10:47.581113Z"
    },
    "papermill": {
     "duration": 1.350675,
     "end_time": "2022-06-02T23:10:47.584582",
     "exception": false,
     "start_time": "2022-06-02T23:10:46.233907",
     "status": "completed"
    },
    "tags": []
   },
   "outputs": [],
   "source": [
    "thresh = 0.5\n",
    "final_test_pred = []\n",
    "for i in test_pred_LSTM:\n",
    "    if i >= thresh:\n",
    "        final_test_pred.append(1)\n",
    "    else:\n",
    "        final_test_pred.append(0)"
   ]
  },
  {
   "cell_type": "code",
   "execution_count": 37,
   "id": "37dfd56a",
   "metadata": {
    "execution": {
     "iopub.execute_input": "2022-06-02T23:10:50.389545Z",
     "iopub.status.busy": "2022-06-02T23:10:50.389146Z",
     "iopub.status.idle": "2022-06-02T23:10:50.408063Z",
     "shell.execute_reply": "2022-06-02T23:10:50.407076Z"
    },
    "papermill": {
     "duration": 1.416305,
     "end_time": "2022-06-02T23:10:50.410371",
     "exception": false,
     "start_time": "2022-06-02T23:10:48.994066",
     "status": "completed"
    },
    "tags": []
   },
   "outputs": [],
   "source": [
    "\n",
    "output_BDLSTM = pd.DataFrame({'id': test_2['id'], 'label': final_test_pred})\n",
    "output_BDLSTM.to_csv('./submission_5.csv', index = False)"
   ]
  },
  {
   "cell_type": "code",
   "execution_count": null,
   "id": "2261c8ee",
   "metadata": {
    "papermill": {
     "duration": 1.391765,
     "end_time": "2022-06-02T23:10:53.125444",
     "exception": false,
     "start_time": "2022-06-02T23:10:51.733679",
     "status": "completed"
    },
    "tags": []
   },
   "outputs": [],
   "source": []
  }
 ],
 "metadata": {
  "kernelspec": {
   "display_name": "Python 3",
   "language": "python",
   "name": "python3"
  },
  "language_info": {
   "codemirror_mode": {
    "name": "ipython",
    "version": 3
   },
   "file_extension": ".py",
   "mimetype": "text/x-python",
   "name": "python",
   "nbconvert_exporter": "python",
   "pygments_lexer": "ipython3",
   "version": "3.7.12"
  },
  "papermill": {
   "default_parameters": {},
   "duration": 5063.558748,
   "end_time": "2022-06-02T23:10:57.728019",
   "environment_variables": {},
   "exception": null,
   "input_path": "__notebook__.ipynb",
   "output_path": "__notebook__.ipynb",
   "parameters": {},
   "start_time": "2022-06-02T21:46:34.169271",
   "version": "2.3.4"
  }
 },
 "nbformat": 4,
 "nbformat_minor": 5
}
